{
 "cells": [
  {
   "cell_type": "code",
   "execution_count": 16,
   "metadata": {},
   "outputs": [
    {
     "name": "stdout",
     "output_type": "stream",
     "text": [
      "Requirement already satisfied: matplotlib in /opt/homebrew/lib/python3.10/site-packages (3.10.5)\n",
      "Requirement already satisfied: numpy in /opt/homebrew/lib/python3.10/site-packages (2.2.6)\n",
      "Requirement already satisfied: pandas in /opt/homebrew/lib/python3.10/site-packages (2.3.1)\n",
      "Requirement already satisfied: torch in /opt/homebrew/lib/python3.10/site-packages (2.8.0)\n",
      "Requirement already satisfied: contourpy>=1.0.1 in /opt/homebrew/lib/python3.10/site-packages (from matplotlib) (1.3.2)\n",
      "Requirement already satisfied: cycler>=0.10 in /opt/homebrew/lib/python3.10/site-packages (from matplotlib) (0.12.1)\n",
      "Requirement already satisfied: fonttools>=4.22.0 in /opt/homebrew/lib/python3.10/site-packages (from matplotlib) (4.59.1)\n",
      "Requirement already satisfied: kiwisolver>=1.3.1 in /opt/homebrew/lib/python3.10/site-packages (from matplotlib) (1.4.9)\n",
      "Requirement already satisfied: packaging>=20.0 in /Users/harrisnguyen/Library/Python/3.10/lib/python/site-packages (from matplotlib) (25.0)\n",
      "Requirement already satisfied: pillow>=8 in /opt/homebrew/lib/python3.10/site-packages (from matplotlib) (11.3.0)\n",
      "Requirement already satisfied: pyparsing>=2.3.1 in /opt/homebrew/lib/python3.10/site-packages (from matplotlib) (3.2.3)\n",
      "Requirement already satisfied: python-dateutil>=2.7 in /Users/harrisnguyen/Library/Python/3.10/lib/python/site-packages (from matplotlib) (2.9.0.post0)\n",
      "Requirement already satisfied: pytz>=2020.1 in /opt/homebrew/lib/python3.10/site-packages (from pandas) (2025.2)\n",
      "Requirement already satisfied: tzdata>=2022.7 in /opt/homebrew/lib/python3.10/site-packages (from pandas) (2025.2)\n",
      "Requirement already satisfied: filelock in /opt/homebrew/lib/python3.10/site-packages (from torch) (3.19.1)\n",
      "Requirement already satisfied: typing-extensions>=4.10.0 in /Users/harrisnguyen/Library/Python/3.10/lib/python/site-packages (from torch) (4.14.1)\n",
      "Requirement already satisfied: sympy>=1.13.3 in /opt/homebrew/lib/python3.10/site-packages (from torch) (1.14.0)\n",
      "Requirement already satisfied: networkx in /opt/homebrew/lib/python3.10/site-packages (from torch) (3.4.2)\n",
      "Requirement already satisfied: jinja2 in /opt/homebrew/lib/python3.10/site-packages (from torch) (3.1.6)\n",
      "Requirement already satisfied: fsspec in /opt/homebrew/lib/python3.10/site-packages (from torch) (2025.7.0)\n",
      "Requirement already satisfied: six>=1.5 in /Users/harrisnguyen/Library/Python/3.10/lib/python/site-packages (from python-dateutil>=2.7->matplotlib) (1.17.0)\n",
      "Requirement already satisfied: mpmath<1.4,>=1.1.0 in /opt/homebrew/lib/python3.10/site-packages (from sympy>=1.13.3->torch) (1.3.0)\n",
      "Requirement already satisfied: MarkupSafe>=2.0 in /opt/homebrew/lib/python3.10/site-packages (from jinja2->torch) (3.0.2)\n",
      "\n",
      "\u001b[1m[\u001b[0m\u001b[34;49mnotice\u001b[0m\u001b[1;39;49m]\u001b[0m\u001b[39;49m A new release of pip is available: \u001b[0m\u001b[31;49m24.2\u001b[0m\u001b[39;49m -> \u001b[0m\u001b[32;49m25.2\u001b[0m\n",
      "\u001b[1m[\u001b[0m\u001b[34;49mnotice\u001b[0m\u001b[1;39;49m]\u001b[0m\u001b[39;49m To update, run: \u001b[0m\u001b[32;49mpython3.10 -m pip install --upgrade pip\u001b[0m\n",
      "Note: you may need to restart the kernel to use updated packages.\n"
     ]
    }
   ],
   "source": [
    "# Install required packages\n",
    "%pip install matplotlib numpy pandas torch"
   ]
  },
  {
   "cell_type": "code",
   "execution_count": 17,
   "metadata": {},
   "outputs": [],
   "source": [
    "import warnings\n",
    "warnings.filterwarnings(\"ignore\")"
   ]
  },
  {
   "cell_type": "code",
   "execution_count": 18,
   "metadata": {},
   "outputs": [],
   "source": [
    "import numpy as np\n",
    "import pandas as pd\n",
    "import torch\n",
    "import torch.nn as nn\n",
    "import torch.nn.functional as F\n",
    "import matplotlib.pyplot as plt"
   ]
  },
  {
   "cell_type": "markdown",
   "metadata": {},
   "source": [
    "Graph Convolutional Auto-Encoder"
   ]
  },
  {
   "cell_type": "code",
   "execution_count": 19,
   "metadata": {},
   "outputs": [],
   "source": [
    "# Laplace normalization\n",
    "class LplsNorm(nn.Module):\n",
    "    def __init__(self):\n",
    "        super(LplsNorm, self).__init__()\n",
    "\n",
    "    def forward(self, adjacency_matrix):\n",
    "        degree = torch.sum(adjacency_matrix, dim=-1)\n",
    "        diag = torch.diag(torch.pow(degree, -0.5))\n",
    "        out = diag.mm(adjacency_matrix).mm(diag)\n",
    "        return out\n",
    "\n",
    "# convolutional\n",
    "class Convolution(nn.Module):\n",
    "    def __init__(self, in_dimension, out_dimension):\n",
    "        super(Convolution, self).__init__()\n",
    "        self.LinearLayer = nn.Sequential(\n",
    "            nn.Linear(in_dimension, out_dimension),\n",
    "            nn.ReLU()\n",
    "        )\n",
    "\n",
    "    def forward(self, adjacency_matrix, feature):\n",
    "        mf = feature + torch.mm(adjacency_matrix, feature)\n",
    "        out = self.LinearLayer(mf)\n",
    "        return out\n"
   ]
  },
  {
   "cell_type": "code",
   "execution_count": null,
   "metadata": {},
   "outputs": [],
   "source": [
    "class VGAE_Encoder(nn.Module):\n",
    "    def __init__(self, in_dimension, hidden_dimension, embedding_dimension):\n",
    "        super(VGAE_Encoder, self).__init__()\n",
    "        self.lpls_norm = LplsNorm()\n",
    "        \n",
    "        # Lớp GCN cơ sở\n",
    "        self.base_gcn = Convolution(in_dimension, hidden_dimension)\n",
    "        \n",
    "        # Hai lớp tuyến tính để tạo ra mean và log_var\n",
    "        self.gcn_mean = Convolution(hidden_dimension, embedding_dimension)\n",
    "        self.gcn_log_var = Convolution(hidden_dimension, embedding_dimension)\n",
    "\n",
    "    def forward(self, adj_matrix, features):\n",
    "        # 1. Chuẩn hóa ma trận kề\n",
    "        norm_adj = self.lpls_norm(adj_matrix)\n",
    "        \n",
    "        # 2. Đưa qua lớp GCN cơ sở\n",
    "        hidden = self.base_gcn(norm_adj, features)\n",
    "        \n",
    "        # 3. Tính mean và log_var\n",
    "        mean = self.gcn_mean(norm_adj, hidden)\n",
    "        log_var = self.gcn_log_var(norm_adj, hidden)\n",
    "        \n",
    "        return mean, log_var\n"
   ]
  },
  {
   "cell_type": "code",
   "execution_count": 21,
   "metadata": {},
   "outputs": [],
   "source": [
    "class InnerProductDecoder(nn.Module):\n",
    "    def __init__(self):\n",
    "        super(InnerProductDecoder, self).__init__()\n",
    "\n",
    "    def forward(self, z):\n",
    "        # Tái tạo ma trận kề bằng cách lấy z nhân với chuyển vị của nó\n",
    "        z_t = z.t()\n",
    "        adj_reconstructed = torch.mm(z, z_t)\n",
    "        return torch.sigmoid(adj_reconstructed)"
   ]
  },
  {
   "cell_type": "code",
   "execution_count": 22,
   "metadata": {},
   "outputs": [],
   "source": [
    "class VGAE_Model(nn.Module):\n",
    "    def __init__(self, in_dimension, hidden_dimension, embedding_dimension):\n",
    "        super(VGAE_Model, self).__init__()\n",
    "        self.encoder = VGAE_Encoder(in_dimension, hidden_dimension, embedding_dimension)\n",
    "        self.decoder = InnerProductDecoder()\n",
    "\n",
    "    def reparameterize(self, mean, log_var):\n",
    "        # Thủ thuật tái tham số hóa\n",
    "        if self.training:\n",
    "            std = torch.exp(0.5 * log_var)\n",
    "            # Lấy mẫu từ phân phối chuẩn N(0, 1)\n",
    "            eps = torch.randn_like(std) \n",
    "            return eps.mul(std).add_(mean)\n",
    "        else:\n",
    "            # Khi kiểm tra hoặc suy luận, chỉ cần dùng mean\n",
    "            return mean\n",
    "\n",
    "    def forward(self, adj_matrix, features):\n",
    "        # Mã hóa để lấy mean và log_var\n",
    "        mean, log_var = self.encoder(adj_matrix, features)\n",
    "        \n",
    "        # Lấy mẫu z từ không gian tiềm ẩn\n",
    "        z = self.reparameterize(mean, log_var)\n",
    "        \n",
    "        # Giải mã để tái tạo ma trận kề\n",
    "        adj_reconstructed = self.decoder(z)\n",
    "        \n",
    "        return adj_reconstructed, mean, log_var"
   ]
  },
  {
   "cell_type": "code",
   "execution_count": 23,
   "metadata": {},
   "outputs": [],
   "source": [
    "def vgae_loss_function(preds, labels, mean, log_var, num_nodes, pos_weight):\n",
    "    # 1. Reconstruction Loss\n",
    "    # Dùng Binary Cross Entropy với Logits để ổn định hơn\n",
    "    reconstruction_loss = F.binary_cross_entropy_with_logits(\n",
    "        preds.view(-1), labels.view(-1), pos_weight=pos_weight\n",
    "    )\n",
    "    \n",
    "    # 2. KL Divergence Loss\n",
    "    # Công thức tính KL divergence giữa N(mean, var) và N(0, 1)\n",
    "    kl_divergence = -0.5 / num_nodes * torch.mean(torch.sum(\n",
    "        1 + 2 * log_var - mean.pow(2) - (2 * log_var).exp(), dim=1\n",
    "    ))\n",
    "    \n",
    "    return reconstruction_loss + kl_divergence"
   ]
  },
  {
   "cell_type": "markdown",
   "metadata": {},
   "source": [
    "preset parameter"
   ]
  },
  {
   "cell_type": "code",
   "execution_count": 24,
   "metadata": {},
   "outputs": [
    {
     "name": "stdout",
     "output_type": "stream",
     "text": [
      "665 --- 316 --- 295\n"
     ]
    }
   ],
   "source": [
    "dataset = \"dataset2\"\n",
    "lnc_mi = pd.read_csv('./our_dataset/' + dataset + '/interaction/lnc_mi.csv', index_col='0').values\n",
    "mi_di = pd.read_csv('./our_dataset/' + dataset + '/interaction/mi_di.csv', index_col='0').values\n",
    "lnc_di = pd.read_csv('./our_dataset/' + dataset + '/interaction/lnc_di.csv', index_col='0').values\n",
    "L_num = lnc_mi.shape[0]\n",
    "D_num = mi_di.shape[1]\n",
    "M_num = mi_di.shape[0]\n",
    "print(f\"{L_num} --- {D_num} --- {M_num}\")"
   ]
  },
  {
   "cell_type": "code",
   "execution_count": 25,
   "metadata": {},
   "outputs": [],
   "source": [
    "A = np.load('./our_dataset/' + dataset + '/A/A_1_1.npy')\n",
    "folds = 5\n",
    "in_dimension = A.shape[1]\n",
    "embedding_dimension = 128\n",
    "learn_rate = 1e-2\n",
    "weight_decay = 1e-4\n",
    "n_epochs = 200\n",
    "network_num = 4\n",
    "hidden_dimension=64"
   ]
  },
  {
   "cell_type": "markdown",
   "metadata": {},
   "source": [
    "train"
   ]
  },
  {
   "cell_type": "code",
   "execution_count": 26,
   "metadata": {},
   "outputs": [
    {
     "name": "stdout",
     "output_type": "stream",
     "text": [
      "Start training VGAE\n",
      "Fold 1, Graph 1, Final Loss: 1.2912273406982422\n",
      "Fold 1, Graph 2, Final Loss: 1.2220141887664795\n",
      "Fold 1, Graph 3, Final Loss: 1.215523362159729\n",
      "Fold 1, Graph 4, Final Loss: 1.2143527269363403\n",
      "Fold 2, Graph 1, Final Loss: 1.2867391109466553\n",
      "Fold 2, Graph 2, Final Loss: 1.224853277206421\n",
      "Fold 2, Graph 3, Final Loss: 1.2187788486480713\n",
      "Fold 2, Graph 4, Final Loss: 1.21786367893219\n",
      "Fold 3, Graph 1, Final Loss: 1.2912451028823853\n",
      "Fold 3, Graph 2, Final Loss: 1.1752026081085205\n",
      "Fold 3, Graph 3, Final Loss: 1.1657506227493286\n",
      "Fold 3, Graph 4, Final Loss: 1.1656312942504883\n",
      "Fold 4, Graph 1, Final Loss: 1.2915308475494385\n",
      "Fold 4, Graph 2, Final Loss: 1.2181141376495361\n",
      "Fold 4, Graph 3, Final Loss: 1.2124003171920776\n",
      "Fold 4, Graph 4, Final Loss: 1.2117968797683716\n",
      "Fold 5, Graph 1, Final Loss: 1.2904375791549683\n",
      "Fold 5, Graph 2, Final Loss: 1.2178077697753906\n",
      "Fold 5, Graph 3, Final Loss: 1.211694598197937\n",
      "Fold 5, Graph 4, Final Loss: 1.2106609344482422\n",
      "Training finished!\n"
     ]
    }
   ],
   "source": [
    "# Giả sử các hàm VGAE_Model và vgae_loss_function đã được định nghĩa ở trên\n",
    "\n",
    "print(\"Start training VGAE\")\n",
    "rds = []\n",
    "res = [] # List này sẽ lưu trữ 'mu'\n",
    "\n",
    "for fold in range(folds):\n",
    "    # CẢI TIẾN 1: Khởi tạo model và optimizer MỘT LẦN cho mỗi fold\n",
    "    # Điều này cho phép model học hỏi qua tất cả các đồ thị trong một fold.\n",
    "    model = VGAE_Model(in_dimension, hidden_dimension, embedding_dimension) # Giả sử dùng VGAE_Model đã định nghĩa\n",
    "    optimizer = torch.optim.Adam(model.parameters(), lr=learn_rate, weight_decay=weight_decay)\n",
    "    \n",
    "    d = [] # Lưu kết quả tái tạo của fold hiện tại\n",
    "    e = [] # Lưu vector tiềm ẩn 'mu' của fold hiện tại\n",
    "\n",
    "    for i in range(network_num):\n",
    "        epoch = 0\n",
    "        A_numpy = np.load('./our_dataset/' + dataset + '/A/A_' + str(fold + 1) + '_' + str(i + 1) + '.npy')\n",
    "        A = torch.Tensor(A_numpy)\n",
    "        num_nodes = A.shape[0]\n",
    "\n",
    "        # CẢI TIẾN 2: Tạo ma trận kề với self-loops\n",
    "        adj_input = A + torch.eye(num_nodes)\n",
    "        \n",
    "        # CẢI TIẾN 3: Sử dụng ma trận đơn vị làm features ban đầu\n",
    "        features_input = torch.eye(num_nodes)\n",
    "\n",
    "        # (Tùy chọn nhưng khuyến khích) Tính pos_weight để xử lý đồ thị thưa\n",
    "        pos_weight = torch.tensor(float(num_nodes**2 - adj_input.sum()) / adj_input.sum())\n",
    "\n",
    "        while epoch < n_epochs:\n",
    "            model.train()\n",
    "            optimizer.zero_grad()\n",
    "            \n",
    "            # Forward pass với input đã được xử lý\n",
    "            reconstructed_A, mu, log_var = model(adj_input, features_input)\n",
    "            \n",
    "            # CẢI TIẾN 4: Gọi hàm loss với đầy đủ tham số\n",
    "            loss = vgae_loss_function(reconstructed_A, adj_input, mu, log_var, num_nodes, pos_weight)\n",
    "            \n",
    "            loss.backward()\n",
    "            optimizer.step()\n",
    "            epoch += 1\n",
    "            \n",
    "        # --- Phần đánh giá (Evaluation) ---\n",
    "        model.eval()\n",
    "        with torch.no_grad():\n",
    "            # Sử dụng cùng input đã xử lý để đánh giá\n",
    "            rd, mu, log_var = model(adj_input, features_input)\n",
    "            d.append(rd.cpu().numpy()) # Chuyển về numpy để lưu trữ nếu cần\n",
    "            \n",
    "            # Lưu 'mu' làm vector biểu diễn tiềm ẩn\n",
    "            e.append(mu.cpu().numpy())\n",
    "            \n",
    "        print(f\"Fold {fold + 1}, Graph {i + 1}, Final Loss: {loss.item()}\")\n",
    "    \n",
    "    res.append(e)\n",
    "    rds.append(d)\n",
    "\n",
    "print(\"Training finished!\")"
   ]
  },
  {
   "cell_type": "code",
   "execution_count": 27,
   "metadata": {},
   "outputs": [],
   "source": [
    "# print(\"Start training\")\n",
    "# rds = []\n",
    "# res = []\n",
    "# for fold in range(folds):\n",
    "#     d = []\n",
    "#     e = []\n",
    "#     for i in range(network_num):\n",
    "#         epoch = 0\n",
    "#         A = torch.Tensor(np.load('./our_dataset/' + dataset + '/A/A_' + str(fold + 1) + '_' + str(i + 1) + '.npy'))\n",
    "        # model = GraphConvolution(in_dimension, embedding_dimension)\n",
    "        # optimizer = torch.optim.Adam(model.parameters(), lr=learn_rate, weight_decay=weight_decay)\n",
    "        # loss_function = nn.MSELoss(reduction='mean')\n",
    "#         while epoch < n_epochs:\n",
    "#             model.train()\n",
    "#             optimizer.zero_grad()\n",
    "#             rd, re = model(A, A)\n",
    "#             loss = loss_function(rd, A)\n",
    "#             loss.backward()\n",
    "#             optimizer.step()\n",
    "#             epoch += 1\n",
    "#         model.eval()\n",
    "#         with torch.no_grad():\n",
    "#             rd, re = model(A, A)\n",
    "#             d.append(rd)\n",
    "#             e.append(re)\n",
    "#         print(f\"The layer {fold + 1} graph convolutional auto-encoder loss is {loss.detach().cpu().item()}\")\n",
    "#     res.append(e)\n",
    "#     rds.append(d)"
   ]
  },
  {
   "cell_type": "markdown",
   "metadata": {},
   "source": [
    "Save the results"
   ]
  },
  {
   "cell_type": "code",
   "execution_count": 28,
   "metadata": {},
   "outputs": [
    {
     "data": {
      "text/plain": [
       "<matplotlib.image.AxesImage at 0x162fcfa60>"
      ]
     },
     "execution_count": 28,
     "metadata": {},
     "output_type": "execute_result"
    },
    {
     "data": {
      "image/png": "[encoded data removed]",
      "text/plain": [
       "<Figure size 480x480 with 1 Axes>"
      ]
     },
     "metadata": {},
     "output_type": "display_data"
    }
   ],
   "source": [
    "import os\n",
    "\n",
    "output_dir = './our_dataset/' + dataset + '/A_vgae_encoder'\n",
    "os.makedirs(output_dir, exist_ok=True)\n",
    "\n",
    "for fold in range(folds):\n",
    "    for i in range(network_num):\n",
    "        file_path = os.path.join(output_dir, f'A_{fold + 1}_{i + 1}.npy')\n",
    "        np.save(file_path, res[fold][i])\n",
    "\n",
    "plt.matshow(rds[0][0], cmap=plt.cm.coolwarm, vmin=0, vmax=1)"
   ]
  }
 ],
 "metadata": {
  "kernelspec": {
   "display_name": "Python 3",
   "language": "python",
   "name": "python3"
  },
  "language_info": {
   "codemirror_mode": {
    "name": "ipython",
    "version": 3
   },
   "file_extension": ".py",
   "mimetype": "text/x-python",
   "name": "python",
   "nbconvert_exporter": "python",
   "pygments_lexer": "ipython3",
   "version": "3.10.15"
  }
 },
 "nbformat": 4,
 "nbformat_minor": 2
}
